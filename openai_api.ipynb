{
  "nbformat": 4,
  "nbformat_minor": 0,
  "metadata": {
    "colab": {
      "provenance": [],
      "include_colab_link": true
    },
    "kernelspec": {
      "name": "python3",
      "display_name": "Python 3"
    },
    "language_info": {
      "name": "python"
    }
  },
  "cells": [
    {
      "cell_type": "markdown",
      "metadata": {
        "id": "view-in-github",
        "colab_type": "text"
      },
      "source": [
        "<a href=\"https://colab.research.google.com/github/mmulready2/CIS355/blob/main/openai_api.ipynb\" target=\"_parent\"><img src=\"https://colab.research.google.com/assets/colab-badge.svg\" alt=\"Open In Colab\"/></a>"
      ]
    },
    {
      "cell_type": "markdown",
      "source": [
        "\n",
        "https://platform.openai.com/docs/pricing   \n",
        "https://openai.com/api/  \n",
        "\n",
        "\n",
        "This is a bare bones notebook for using openai's api for common generative AI tasks. It gives access to numerous models, much more so than the free or plus versions of chatgpt.  \n",
        "\n",
        "This notebook has a live encrypted apikey, so please don't share this notebook and try to keep it secure.  \n",
        "\n",
        "Also, please keep in mind, every time you use this notebook's apikey, it will deplete the funds in our class account - so please limit your use to this assignment and a just little bit of experimentation.\n",
        "\n",
        "If you want to create your own account at openai to use apikeys, follow these steps:\n",
        "* Sign up (it is not the same as a chatgpt plus subscription) at https://platform.openai.com\n",
        "* Buy credits ($10 is sufficient to get started. Warning - they expire.)\n",
        "* Create an api key. (https://platform.openai.com/settings/organization/api-keys)\n",
        "  * This sheet contains a cell for you to save a password encrypted version of your api key, so you can just type a password eachtime you want to use it.\n",
        "---\n",
        "\n"
      ],
      "metadata": {
        "id": "MrMX5xKt9buW"
      }
    },
    {
      "cell_type": "code",
      "source": [
        "# run this cell to get colab outputs to wrap\n",
        "from IPython.display import HTML, display\n",
        "\n",
        "def set_css():\n",
        "  display(HTML('''\n",
        "  <style>\n",
        "    pre {\n",
        "        white-space: pre-wrap;\n",
        "    }\n",
        "  </style>\n",
        "  '''))\n",
        "get_ipython().events.register('pre_run_cell', set_css)"
      ],
      "metadata": {
        "id": "w9mhocbZE7Vu"
      },
      "execution_count": 4,
      "outputs": []
    },
    {
      "cell_type": "code",
      "source": [
        "# CRYPTO FUNCTIONS TO BE ABLE TO LOAD AN ENCRYPTED API KEY STORED IN THE SHEET\n",
        "import cryptography\n",
        "from getpass import getpass\n",
        "import base64\n",
        "from cryptography.fernet import Fernet\n",
        "import hashlib\n",
        "import os\n",
        "from openai import OpenAI\n",
        "\n",
        "def generate_key(password: str, salt: bytes) -> bytes:\n",
        "    \"\"\"Generate a Fernet key from a password and salt.\"\"\"\n",
        "    key = hashlib.pbkdf2_hmac('sha256', password.encode(), salt, 100000)\n",
        "    return base64.urlsafe_b64encode(key)\n",
        "\n",
        "def encrypt_string(plaintext: str, password: str) -> str:\n",
        "    \"\"\"Encrypt a string using Fernet encryption with a salt.\"\"\"\n",
        "    # Generate a random salt\n",
        "    salt = os.urandom(16)\n",
        "    key = generate_key(password, salt)\n",
        "    fernet = Fernet(key)\n",
        "\n",
        "    # Encrypt the plaintext\n",
        "    ciphertext = fernet.encrypt(plaintext.encode())\n",
        "\n",
        "    # Return the salt + ciphertext as base64\n",
        "    return base64.urlsafe_b64encode(salt + ciphertext).decode()\n",
        "\n",
        "def decrypt_string(encrypted_data: str, password: str) -> str:\n",
        "    \"\"\"Decrypt a string using Fernet encryption with a salt.\"\"\"\n",
        "    # Decode the base64 string\n",
        "    data = base64.urlsafe_b64decode(encrypted_data.encode())\n",
        "\n",
        "    # Extract the salt and ciphertext\n",
        "    salt, ciphertext = data[:16], data[16:]\n",
        "\n",
        "    # Generate the key using the extracted salt\n",
        "    key = generate_key(password, salt)\n",
        "    fernet = Fernet(key)\n",
        "\n",
        "    # Decrypt the ciphertext\n",
        "    plaintext = fernet.decrypt(ciphertext).decode()\n",
        "\n",
        "    return plaintext"
      ],
      "metadata": {
        "colab": {
          "base_uri": "https://localhost:8080/",
          "height": 17
        },
        "id": "f0PPLP6W7ZKX",
        "outputId": "6fdece64-5975-46bc-fe7f-1375acccc66d"
      },
      "execution_count": 5,
      "outputs": [
        {
          "output_type": "display_data",
          "data": {
            "text/plain": [
              "<IPython.core.display.HTML object>"
            ],
            "text/html": [
              "\n",
              "  <style>\n",
              "    pre {\n",
              "        white-space: pre-wrap;\n",
              "    }\n",
              "  </style>\n",
              "  "
            ]
          },
          "metadata": {}
        }
      ]
    },
    {
      "cell_type": "code",
      "source": [
        "# USE THIS CELL TO START OPENAI SESSION. USER WILL BE PROMPTED FOR\n",
        "# PASSWORD TO DECRYPT STORED ENCRYPTED KEY.\n",
        "encrypted_api_key = \"-a7ox8s3vm7wMUmUOzJ23WdBQUFBQUJvLTRFOVhabE1iTnNBeDItQTBkWHRMRmNZNjNTeGctdGNoc2dxNUJ5am9ia05LdVlLcVhsbENSRjVZT2xqTmV5VS0zemprenltbzAxSzB0cjBYeVNkVVVPb2d4RDR1WEdrakFqZm5EQlZrcjkxSVk0TG53LUxiYkt6dHBXQmNlbWVMd3RKNEx0ejR1cXprU2gzcUpGWHhwWnR6MS1iRTZ4aFVUbEI1a2hMamxpYVZNUEdvU3VtVE5YTmFQeVE1bUtoM05jUnIxMENvYjc3R19HY1dXc25WU09CTGdRX1E0b1A4ckhkd2dPQURaa2I0U2k4WktNMzdtOUpEWFBDd0RFUElMc0Y4UEVmSWVWb3JKcmtNVW9udmxBR3dEOThXZjhQZzQyMTZLQUk3TjVwS3p3PQ==\"\n",
        "\n",
        "password = getpass('Enter decryption pass:')\n",
        "\n",
        "# Decrypt the string\n",
        "decrypted_api_key = decrypt_string(encrypted_api_key, password)\n",
        "client = OpenAI(api_key = decrypted_api_key)"
      ],
      "metadata": {
        "colab": {
          "base_uri": "https://localhost:8080/",
          "height": 35
        },
        "id": "O4y-RT2a52m3",
        "outputId": "2a3c66b5-bd9c-45a8-e46b-04fd1ec24ed2"
      },
      "execution_count": 7,
      "outputs": [
        {
          "output_type": "display_data",
          "data": {
            "text/plain": [
              "<IPython.core.display.HTML object>"
            ],
            "text/html": [
              "\n",
              "  <style>\n",
              "    pre {\n",
              "        white-space: pre-wrap;\n",
              "    }\n",
              "  </style>\n",
              "  "
            ]
          },
          "metadata": {}
        },
        {
          "name": "stdout",
          "output_type": "stream",
          "text": [
            "Enter decryption pass:··········\n"
          ]
        }
      ]
    },
    {
      "cell_type": "code",
      "source": [
        "# USE THIS CELL TO ENCRYPT A NEW APIKEY\n",
        "# FOR EXAMPLE, WHEN YOU CREATE A NEW apikey FOR YOUR ACCOUNT\n",
        "# https://platform.openai.com/settings/organization/api-keys\n",
        "#\n",
        "plaintextkey = getpass('Enter your OpenAI API Key:')\n",
        "password = getpass('Enter pass:')\n",
        "\n",
        "# Encrypt the string\n",
        "encrypted = encrypt_string(plaintextkey, password)\n",
        "print(f\"Encrypted: {encrypted}\")"
      ],
      "metadata": {
        "colab": {
          "base_uri": "https://localhost:8080/",
          "height": 106
        },
        "id": "FIGsFsbw508-",
        "outputId": "d908a417-3f9d-4446-ab3e-71ae06daea5c"
      },
      "execution_count": null,
      "outputs": [
        {
          "output_type": "display_data",
          "data": {
            "text/plain": [
              "<IPython.core.display.HTML object>"
            ],
            "text/html": [
              "\n",
              "  <style>\n",
              "    pre {\n",
              "        white-space: pre-wrap;\n",
              "    }\n",
              "  </style>\n",
              "  "
            ]
          },
          "metadata": {}
        },
        {
          "output_type": "stream",
          "name": "stdout",
          "text": [
            "Enter your OpenAI API Key:··········\n",
            "Enter pass:··········\n",
            "Encrypted: -a7ox8s3vm7wMUmUOzJ23WdBQUFBQUJvLTRFOVhabE1iTnNBeDItQTBkWHRMRmNZNjNTeGctdGNoc2dxNUJ5am9ia05LdVlLcVhsbENSRjVZT2xqTmV5VS0zemprenltbzAxSzB0cjBYeVNkVVVPb2d4RDR1WEdrakFqZm5EQlZrcjkxSVk0TG53LUxiYkt6dHBXQmNlbWVMd3RKNEx0ejR1cXprU2gzcUpGWHhwWnR6MS1iRTZ4aFVUbEI1a2hMamxpYVZNUEdvU3VtVE5YTmFQeVE1bUtoM05jUnIxMENvYjc3R19HY1dXc25WU09CTGdRX1E0b1A4ckhkd2dPQURaa2I0U2k4WktNMzdtOUpEWFBDd0RFUElMc0Y4UEVmSWVWb3JKcmtNVW9udmxBR3dEOThXZjhQZzQyMTZLQUk3TjVwS3p3PQ==\n"
          ]
        }
      ]
    },
    {
      "cell_type": "code",
      "source": [
        "chatgpt_models = [\n",
        "    \"gpt-4.1\",\n",
        "    \"gpt-4.1-mini\",\n",
        "    \"gpt-4.1-nano\",\n",
        "    \"gpt-4.5-preview\"\n",
        "    \"gpt-4o\",\n",
        "    \"gpt-4o-mini\",\n",
        "    \"gpt-4.5\",\n",
        "    \"o1\",\n",
        "    \"o1-pro\",\n",
        "    \"o3\",\n",
        "    \"o4-mini\",\n",
        "    \"o3-mini\",\n",
        "    \"o1-mini\",\n",
        "    \"gpt-4o-mini-search-preview\",\n",
        "    \"gpt-4o-search-preview\",\n",
        "    \"computer-use-preview\",\n",
        "    \"gpt-image-1\"\n",
        "]"
      ],
      "metadata": {
        "id": "MamLqZMWB3X_",
        "colab": {
          "base_uri": "https://localhost:8080/",
          "height": 17
        },
        "outputId": "946a3973-06d9-49c2-b2f1-b9e9e4e46d97"
      },
      "execution_count": 8,
      "outputs": [
        {
          "output_type": "display_data",
          "data": {
            "text/plain": [
              "<IPython.core.display.HTML object>"
            ],
            "text/html": [
              "\n",
              "  <style>\n",
              "    pre {\n",
              "        white-space: pre-wrap;\n",
              "    }\n",
              "  </style>\n",
              "  "
            ]
          },
          "metadata": {}
        }
      ]
    },
    {
      "cell_type": "code",
      "execution_count": 5,
      "metadata": {
        "colab": {
          "base_uri": "https://localhost:8080/",
          "height": 928
        },
        "id": "DPRyb0Tx2mw2",
        "outputId": "6930b44d-9fe6-45d7-cdba-ce612d082411"
      },
      "outputs": [
        {
          "output_type": "display_data",
          "data": {
            "text/plain": [
              "<IPython.core.display.HTML object>"
            ],
            "text/html": [
              "\n",
              "  <style>\n",
              "    pre {\n",
              "        white-space: pre-wrap;\n",
              "    }\n",
              "  </style>\n",
              "  "
            ]
          },
          "metadata": {}
        },
        {
          "output_type": "stream",
          "name": "stdout",
          "text": [
            "**\"Purple Eagle\"**\n",
            "\n",
            "*(Verse 1)*  \n",
            "Flying high above the sunrise,  \n",
            "Breaking dawn across the land,  \n",
            "A flash of violet in the golden sky—  \n",
            "You spot her wings as she proudly stands.  \n",
            "Not just a dream, she’s really there,  \n",
            "Majesty in motion, rare as the moon's own glare.  \n",
            "Through the storm and through the sparkle,  \n",
            "Here she comes—the purple eagle.\n",
            "\n",
            "*(Chorus)*  \n",
            "Purple eagle, spread your wings and fly,  \n",
            "Touch the edge of every rainbow in the painted sky.  \n",
            "Lift me higher, teach me how to see  \n",
            "All the beauty in this world that’s meant for you and me.  \n",
            "Oh, purple eagle, carry me tonight—  \n",
            "Let’s soar together toward the morning light.\n",
            "\n",
            "*(Verse 2)*  \n",
            "All the other birds, they gather near,  \n",
            "Whisper stories of the one they fear.  \n",
            "But up close, she’s made of hope and heart,  \n",
            "A gentle strength that sets her apart.  \n",
            "With every beat of those amethyst wings,  \n",
            "She leaves a trail of purple dreams.  \n",
            "Up above the world so regal,  \n",
            "Watch her fly—the purple eagle.\n",
            "\n",
            "*(Chorus)*  \n",
            "Purple eagle, spread your wings and fly,  \n",
            "Touch the edge of every rainbow in the painted sky.  \n",
            "Lift me higher, teach me how to see  \n",
            "All the beauty in this world that’s meant for you and me.  \n",
            "Oh, purple eagle, carry me tonight—  \n",
            "Let’s soar together toward the morning light.\n",
            "\n",
            "*(Bridge)*  \n",
            "No cage can hold her, no chains confine,  \n",
            "She’s the poem written on the wind and time.  \n",
            "A symbol of freedom, the spirit inside,  \n",
            "I’ll ride that current with her by my side.\n",
            "\n",
            "*(Chorus/Outro)*  \n",
            "Purple eagle, spread your wings and fly,  \n",
            "Take me where the earth meets up with open sky.  \n",
            "With you beside me, I know I’ll be free—  \n",
            "Oh, purple eagle, that’s where I want to be.  \n",
            "Carry me, purple eagle, through the night—  \n",
            "Let’s soar together, chasing morning light.\n"
          ]
        }
      ],
      "source": [
        "# TEXT GENERATION. Simple prompt\n",
        "\n",
        "response = client.responses.create(\n",
        "    model=\"gpt-4.1\",\n",
        "    input=\"Write a song about a purple eagle.\"\n",
        ")\n",
        "\n",
        "print(response.output_text)"
      ]
    },
    {
      "cell_type": "code",
      "source": [
        "# TEXT GENERATION FROM IMAGE INPUT\n",
        "\n",
        "# note: some images don't work: ex: https://www.niagara.edu/wp-content/uploads/2024/12/Student-in-Esports-lounge-800x600.jpg\n",
        "response = client.responses.create(\n",
        "    model=\"gpt-4.1\",\n",
        "    input=[\n",
        "        {\"role\": \"user\", \"content\": \"describe this image?\"},\n",
        "        {\n",
        "            \"role\": \"user\",\n",
        "            \"content\": [\n",
        "                {\n",
        "                    \"type\": \"input_image\",\n",
        "                    \"image_url\": \"https://www.thespruceeats.com/thmb/XDBL9gA6A6nYWUdsRZ3QwH084rk=/1500x0/filters:no_upscale():max_bytes(150000):strip_icc()/SES-chicken-biryani-recipe-7367850-hero-A-ed211926bb0e4ca1be510695c15ce111.jpg\"\n",
        "                }\n",
        "            ]\n",
        "        }\n",
        "    ]\n",
        ")\n",
        "\n",
        "print(response.output_text)"
      ],
      "metadata": {
        "colab": {
          "base_uri": "https://localhost:8080/",
          "height": 88
        },
        "id": "-ydG-jfXDMEA",
        "outputId": "18fc45da-5478-44d1-d126-9ea9c31350d7"
      },
      "execution_count": 6,
      "outputs": [
        {
          "output_type": "display_data",
          "data": {
            "text/plain": [
              "<IPython.core.display.HTML object>"
            ],
            "text/html": [
              "\n",
              "  <style>\n",
              "    pre {\n",
              "        white-space: pre-wrap;\n",
              "    }\n",
              "  </style>\n",
              "  "
            ]
          },
          "metadata": {}
        },
        {
          "output_type": "stream",
          "name": "stdout",
          "text": [
            "This image shows a delicious serving of chicken biryani, a popular South Asian rice dish. The biryani is presented on a large white platter and features long grains of yellow and white basmati rice, tender pieces of spiced chicken, and garnishes of fresh green herbs (such as mint and cilantro). There are also some thin fried onions sprinkled on top, adding texture and flavor. The dish looks vibrant and aromatic, perfect for a festive meal. In the upper right corner, there is a glass, possibly containing a drink, and in the top left, some fresh mint leaves are visible.\n"
          ]
        }
      ]
    },
    {
      "cell_type": "code",
      "source": [
        "# ACCESSING WEBSEARCH TOOL\n",
        "\n",
        "response = client.responses.create(\n",
        "    model=\"gpt-4.1\",\n",
        "    tools=[{\"type\": \"web_search_preview\"}],\n",
        "    input=\"Tell me about sports new this week.\"\n",
        ")\n",
        "\n",
        "print(response.output_text)"
      ],
      "metadata": {
        "colab": {
          "base_uri": "https://localhost:8080/",
          "height": 1000
        },
        "id": "yzFor7_CEfkC",
        "outputId": "7c686af5-dab4-4a53-a053-3f0efb1f6081"
      },
      "execution_count": 7,
      "outputs": [
        {
          "output_type": "display_data",
          "data": {
            "text/plain": [
              "<IPython.core.display.HTML object>"
            ],
            "text/html": [
              "\n",
              "  <style>\n",
              "    pre {\n",
              "        white-space: pre-wrap;\n",
              "    }\n",
              "  </style>\n",
              "  "
            ]
          },
          "metadata": {}
        },
        {
          "output_type": "stream",
          "name": "stdout",
          "text": [
            "Here's a roundup of notable sports news from the week of October 18–24, 2025:\n",
            "\n",
            "**Baseball**\n",
            "\n",
            "- **World Series Matchup Set**: The Los Angeles Dodgers, led by standout Shohei Ohtani, are set to face the Toronto Blue Jays in the 2025 World Series. The series begins today, October 24, and could conclude as late as November 1 if all seven games are necessary. ([en.wikipedia.org](https://en.wikipedia.org/wiki/2025_World_Series?utm_source=openai))\n",
            "\n",
            "**Soccer**\n",
            "\n",
            "- **El Clásico Returns**: Real Madrid and Barcelona are set to renew their storied rivalry in El Clásico at the Bernabéu Stadium. Real Madrid, under new manager Xabi Alonso, seeks redemption after heavy defeats last season, while Barcelona, led by Hansi Flick, aims to maintain their competitive edge. ([reuters.com](https://www.reuters.com/sports/rivalries-reignite-madrid-wembley-while-ohtani-eyes-world-series-glorythe-2025-10-24/?utm_source=openai))\n",
            "\n",
            "**Rugby League**\n",
            "\n",
            "- **Ashes Series Resumes**: England and Australia kick off their first Ashes series in 22 years at Wembley Stadium. Historically dominated by Australia, England aims to reverse their fortunes in this long-standing rivalry. ([reuters.com](https://www.reuters.com/sports/rivalries-reignite-madrid-wembley-while-ohtani-eyes-world-series-glorythe-2025-10-24/?utm_source=openai))\n",
            "\n",
            "**College Football**\n",
            "\n",
            "- **AP Top 25 Shakeup**: Following a tumultuous Week 8, the AP Top 25 rankings saw significant changes. Ohio State remains at No. 1, with Indiana climbing to a program-best No. 2. Texas A&M, Alabama, and Georgia round out the top five. Key upcoming matchups include No. 3 Texas A&M vs. No. 20 LSU, No. 10 Vanderbilt vs. No. 15 Missouri, and No. 8 Ole Miss vs. No. 13 Oklahoma. ([apnews.com](https://apnews.com/article/14d8ce54d60a63ba7d6a1407a40be5a4?utm_source=openai))\n",
            "\n",
            "**Gymnastics**\n",
            "\n",
            "- **World Championships in Jakarta**: The 2025 World Artistic Gymnastics Championships are underway at the Indonesia Arena in Jakarta from October 19–25. This marks the first time the event is hosted by a Southeast Asian country. ([en.wikipedia.org](https://en.wikipedia.org/wiki/2025_World_Artistic_Gymnastics_Championships?utm_source=openai))\n",
            "\n",
            "**Rugby League**\n",
            "\n",
            "- **Super League Grand Final**: Hull Kingston Rovers defeated Wigan Warriors 24-6 at Old Trafford to claim their first Super League title, completing a historic treble. ([en.wikipedia.org](https://en.wikipedia.org/wiki/2025_Super_League_Grand_Final?utm_source=openai))\n",
            "\n",
            "**NBA**\n",
            "\n",
            "## NBA Schedule\n",
            "- Nuggets (DEN) @ Warriors (GSW) on Thursday, Oct 23, 2025 at 07:00 PM PDT. Final score: DEN 131 - GSW 137\n",
            "- Bucks @ Raptors on Friday, Oct 24, 2025 at 03:30 PM PDT\n",
            "- Hawks @ Magic on Friday, Oct 24, 2025 at 04:00 PM PDT\n",
            "- Cavaliers @ Nets on Friday, Oct 24, 2025 at 04:30 PM PDT\n",
            "- Celtics @ Knicks on Friday, Oct 24, 2025 at 04:30 PM PDT\n",
            "- Spurs @ Pelicans on Friday, Oct 24, 2025 at 05:00 PM PDT\n",
            "- Heat @ Grizzlies on Friday, Oct 24, 2025 at 05:00 PM PDT\n",
            "- Pistons @ Rockets on Friday, Oct 24, 2025 at 05:00 PM PDT\n",
            "- Wizards @ Mavericks on Friday, Oct 24, 2025 at 05:30 PM PDT\n",
            "- Jazz @ Kings on Friday, Oct 24, 2025 at 07:00 PM PDT\n",
            "- Timberwolves @ Lakers on Friday, Oct 24, 2025 at 07:00 PM PDT\n",
            "- Warriors @ Trail Blazers on Friday, Oct 24, 2025 at 07:00 PM PDT\n",
            "- Suns @ Clippers on Friday, Oct 24, 2025 at 07:30 PM PDT\n",
            "- Pistons (DET) @ Bulls (CHI) on Wednesday, Oct 22, 2025 at 05:00 PM PDT. Final score: DET 111 - CHI 115\n",
            "- Wizards (WAS) @ Bucks (MIL) on Wednesday, Oct 22, 2025 at 05:00 PM PDT. Final score: WAS 120 - MIL 133\n",
            "- Clippers (LAC) @ Jazz (UTA) on Wednesday, Oct 22, 2025 at 06:00 PM PDT. Final score: LAC 108 - UTA 129\n",
            "- Spurs (SAS) @ Mavericks (DAL) on Wednesday, Oct 22, 2025 at 06:30 PM PDT. Final score: SAS 125 - DAL 92\n",
            "- Kings (SAC) @ Suns (PHX) on Wednesday, Oct 22, 2025 at 07:00 PM PDT. Final score: SAC 116 - PHX 120\n",
            "- Timberwolves (MIN) @ Trail Blazers (POR) on Wednesday, Oct 22, 2025 at 07:00 PM PDT. Final score: MIN 118 - POR 114\n",
            "- Thunder (OKC) @ Pacers (IND) on Thursday, Oct 23, 2025 at 04:30 PM PDT. Final score: OKC 141 - IND 135\n",
            "\n",
            "\n",
            "These events highlight a dynamic week across various sports, showcasing intense competitions and historic milestones. \n"
          ]
        }
      ]
    },
    {
      "cell_type": "code",
      "source": [
        "!pip install openai-agents"
      ],
      "metadata": {
        "colab": {
          "base_uri": "https://localhost:8080/",
          "height": 1000
        },
        "id": "lngiyEsXHVCx",
        "outputId": "196e5f49-e4de-45ca-88f3-de87cc32c417"
      },
      "execution_count": 8,
      "outputs": [
        {
          "output_type": "display_data",
          "data": {
            "text/plain": [
              "<IPython.core.display.HTML object>"
            ],
            "text/html": [
              "\n",
              "  <style>\n",
              "    pre {\n",
              "        white-space: pre-wrap;\n",
              "    }\n",
              "  </style>\n",
              "  "
            ]
          },
          "metadata": {}
        },
        {
          "output_type": "stream",
          "name": "stdout",
          "text": [
            "Collecting openai-agents\n",
            "  Downloading openai_agents-0.4.1-py3-none-any.whl.metadata (12 kB)\n",
            "Collecting griffe<2,>=1.5.6 (from openai-agents)\n",
            "  Downloading griffe-1.14.0-py3-none-any.whl.metadata (5.1 kB)\n",
            "Requirement already satisfied: mcp<2,>=1.11.0 in /usr/local/lib/python3.12/dist-packages (from openai-agents) (1.18.0)\n",
            "Collecting openai<3,>=2.2 (from openai-agents)\n",
            "  Downloading openai-2.6.1-py3-none-any.whl.metadata (29 kB)\n",
            "Requirement already satisfied: pydantic<3,>=2.10 in /usr/local/lib/python3.12/dist-packages (from openai-agents) (2.11.10)\n",
            "Requirement already satisfied: requests<3,>=2.0 in /usr/local/lib/python3.12/dist-packages (from openai-agents) (2.32.4)\n",
            "Collecting types-requests<3,>=2.0 (from openai-agents)\n",
            "  Downloading types_requests-2.32.4.20250913-py3-none-any.whl.metadata (2.0 kB)\n",
            "Requirement already satisfied: typing-extensions<5,>=4.12.2 in /usr/local/lib/python3.12/dist-packages (from openai-agents) (4.15.0)\n",
            "Collecting colorama>=0.4 (from griffe<2,>=1.5.6->openai-agents)\n",
            "  Downloading colorama-0.4.6-py2.py3-none-any.whl.metadata (17 kB)\n",
            "Requirement already satisfied: anyio>=4.5 in /usr/local/lib/python3.12/dist-packages (from mcp<2,>=1.11.0->openai-agents) (4.11.0)\n",
            "Requirement already satisfied: httpx-sse>=0.4 in /usr/local/lib/python3.12/dist-packages (from mcp<2,>=1.11.0->openai-agents) (0.4.3)\n",
            "Requirement already satisfied: httpx>=0.27.1 in /usr/local/lib/python3.12/dist-packages (from mcp<2,>=1.11.0->openai-agents) (0.28.1)\n",
            "Requirement already satisfied: jsonschema>=4.20.0 in /usr/local/lib/python3.12/dist-packages (from mcp<2,>=1.11.0->openai-agents) (4.25.1)\n",
            "Requirement already satisfied: pydantic-settings>=2.5.2 in /usr/local/lib/python3.12/dist-packages (from mcp<2,>=1.11.0->openai-agents) (2.11.0)\n",
            "Requirement already satisfied: python-multipart>=0.0.9 in /usr/local/lib/python3.12/dist-packages (from mcp<2,>=1.11.0->openai-agents) (0.0.20)\n",
            "Requirement already satisfied: sse-starlette>=1.6.1 in /usr/local/lib/python3.12/dist-packages (from mcp<2,>=1.11.0->openai-agents) (3.0.2)\n",
            "Requirement already satisfied: starlette>=0.27 in /usr/local/lib/python3.12/dist-packages (from mcp<2,>=1.11.0->openai-agents) (0.48.0)\n",
            "Requirement already satisfied: uvicorn>=0.31.1 in /usr/local/lib/python3.12/dist-packages (from mcp<2,>=1.11.0->openai-agents) (0.38.0)\n",
            "Requirement already satisfied: distro<2,>=1.7.0 in /usr/local/lib/python3.12/dist-packages (from openai<3,>=2.2->openai-agents) (1.9.0)\n",
            "Requirement already satisfied: jiter<1,>=0.10.0 in /usr/local/lib/python3.12/dist-packages (from openai<3,>=2.2->openai-agents) (0.11.1)\n",
            "Requirement already satisfied: sniffio in /usr/local/lib/python3.12/dist-packages (from openai<3,>=2.2->openai-agents) (1.3.1)\n",
            "Requirement already satisfied: tqdm>4 in /usr/local/lib/python3.12/dist-packages (from openai<3,>=2.2->openai-agents) (4.67.1)\n",
            "Requirement already satisfied: annotated-types>=0.6.0 in /usr/local/lib/python3.12/dist-packages (from pydantic<3,>=2.10->openai-agents) (0.7.0)\n",
            "Requirement already satisfied: pydantic-core==2.33.2 in /usr/local/lib/python3.12/dist-packages (from pydantic<3,>=2.10->openai-agents) (2.33.2)\n",
            "Requirement already satisfied: typing-inspection>=0.4.0 in /usr/local/lib/python3.12/dist-packages (from pydantic<3,>=2.10->openai-agents) (0.4.2)\n",
            "Requirement already satisfied: charset_normalizer<4,>=2 in /usr/local/lib/python3.12/dist-packages (from requests<3,>=2.0->openai-agents) (3.4.4)\n",
            "Requirement already satisfied: idna<4,>=2.5 in /usr/local/lib/python3.12/dist-packages (from requests<3,>=2.0->openai-agents) (3.11)\n",
            "Requirement already satisfied: urllib3<3,>=1.21.1 in /usr/local/lib/python3.12/dist-packages (from requests<3,>=2.0->openai-agents) (2.5.0)\n",
            "Requirement already satisfied: certifi>=2017.4.17 in /usr/local/lib/python3.12/dist-packages (from requests<3,>=2.0->openai-agents) (2025.10.5)\n",
            "Requirement already satisfied: httpcore==1.* in /usr/local/lib/python3.12/dist-packages (from httpx>=0.27.1->mcp<2,>=1.11.0->openai-agents) (1.0.9)\n",
            "Requirement already satisfied: h11>=0.16 in /usr/local/lib/python3.12/dist-packages (from httpcore==1.*->httpx>=0.27.1->mcp<2,>=1.11.0->openai-agents) (0.16.0)\n",
            "Requirement already satisfied: attrs>=22.2.0 in /usr/local/lib/python3.12/dist-packages (from jsonschema>=4.20.0->mcp<2,>=1.11.0->openai-agents) (25.4.0)\n",
            "Requirement already satisfied: jsonschema-specifications>=2023.03.6 in /usr/local/lib/python3.12/dist-packages (from jsonschema>=4.20.0->mcp<2,>=1.11.0->openai-agents) (2025.9.1)\n",
            "Requirement already satisfied: referencing>=0.28.4 in /usr/local/lib/python3.12/dist-packages (from jsonschema>=4.20.0->mcp<2,>=1.11.0->openai-agents) (0.37.0)\n",
            "Requirement already satisfied: rpds-py>=0.7.1 in /usr/local/lib/python3.12/dist-packages (from jsonschema>=4.20.0->mcp<2,>=1.11.0->openai-agents) (0.27.1)\n",
            "Requirement already satisfied: python-dotenv>=0.21.0 in /usr/local/lib/python3.12/dist-packages (from pydantic-settings>=2.5.2->mcp<2,>=1.11.0->openai-agents) (1.1.1)\n",
            "Requirement already satisfied: click>=7.0 in /usr/local/lib/python3.12/dist-packages (from uvicorn>=0.31.1->mcp<2,>=1.11.0->openai-agents) (8.3.0)\n",
            "Downloading openai_agents-0.4.1-py3-none-any.whl (215 kB)\n",
            "\u001b[2K   \u001b[90m━━━━━━━━━━━━━━━━━━━━━━━━━━━━━━━━━━━━━━━━\u001b[0m \u001b[32m215.6/215.6 kB\u001b[0m \u001b[31m18.3 MB/s\u001b[0m eta \u001b[36m0:00:00\u001b[0m\n",
            "\u001b[?25hDownloading griffe-1.14.0-py3-none-any.whl (144 kB)\n",
            "\u001b[2K   \u001b[90m━━━━━━━━━━━━━━━━━━━━━━━━━━━━━━━━━━━━━━━━\u001b[0m \u001b[32m144.4/144.4 kB\u001b[0m \u001b[31m13.1 MB/s\u001b[0m eta \u001b[36m0:00:00\u001b[0m\n",
            "\u001b[?25hDownloading openai-2.6.1-py3-none-any.whl (1.0 MB)\n",
            "\u001b[2K   \u001b[90m━━━━━━━━━━━━━━━━━━━━━━━━━━━━━━━━━━━━━━━━\u001b[0m \u001b[32m1.0/1.0 MB\u001b[0m \u001b[31m61.4 MB/s\u001b[0m eta \u001b[36m0:00:00\u001b[0m\n",
            "\u001b[?25hDownloading types_requests-2.32.4.20250913-py3-none-any.whl (20 kB)\n",
            "Downloading colorama-0.4.6-py2.py3-none-any.whl (25 kB)\n",
            "Installing collected packages: types-requests, colorama, griffe, openai, openai-agents\n",
            "  Attempting uninstall: openai\n",
            "    Found existing installation: openai 1.109.1\n",
            "    Uninstalling openai-1.109.1:\n",
            "      Successfully uninstalled openai-1.109.1\n",
            "Successfully installed colorama-0.4.6 griffe-1.14.0 openai-2.6.1 openai-agents-0.4.1 types-requests-2.32.4.20250913\n"
          ]
        },
        {
          "output_type": "display_data",
          "data": {
            "application/vnd.colab-display-data+json": {
              "pip_warning": {
                "packages": [
                  "openai"
                ]
              },
              "id": "de5cfe47fb0b4f61bd696c6686d9c7d9"
            }
          },
          "metadata": {}
        }
      ]
    },
    {
      "cell_type": "code",
      "source": [
        "# This way of making the api_key available is necessary for agents\n",
        "import os\n",
        "os.environ[\"OPENAI_API_KEY\"] = decrypted_api_key"
      ],
      "metadata": {
        "colab": {
          "base_uri": "https://localhost:8080/",
          "height": 17
        },
        "id": "RSp9oYCYKApJ",
        "outputId": "d00b5a63-decd-4927-a8cc-b6a0c9fe55b3"
      },
      "execution_count": 9,
      "outputs": [
        {
          "output_type": "display_data",
          "data": {
            "text/plain": [
              "<IPython.core.display.HTML object>"
            ],
            "text/html": [
              "\n",
              "  <style>\n",
              "    pre {\n",
              "        white-space: pre-wrap;\n",
              "    }\n",
              "  </style>\n",
              "  "
            ]
          },
          "metadata": {}
        }
      ]
    },
    {
      "cell_type": "code",
      "source": [
        "# openai Agents\n",
        "\n",
        "# Automatically call a different agent based on input.\n",
        "\n",
        "from agents import Agent, Runner\n",
        "import asyncio\n",
        "\n",
        "spanish_agent = Agent(\n",
        "    name=\"Math agent\",\n",
        "    instructions=\"You only speak in Math terms.\",\n",
        "    model=\"gpt-4o\"\n",
        ")\n",
        "\n",
        "english_agent = Agent(\n",
        "    name=\"English agent\",\n",
        "    instructions=\"You only speak English\",\n",
        "    model=\"gpt-4o\"\n",
        ")\n",
        "\n",
        "triage_agent = Agent(\n",
        "    name=\"Triage agent\",\n",
        "    instructions=\"Handoff to the appropriate agent based on the language of the request.\",\n",
        "    handoffs=[spanish_agent, english_agent],\n",
        "    model=\"gpt-4o\"\n",
        ")\n",
        "\n",
        "async def run_agent():\n",
        "    result = await Runner.run(triage_agent, input=\"Prove that for every pair of twin primes except for the pair (3,5), the number between them is divisible by 6.\")\n",
        "    print(result.final_output)\n",
        "\n",
        "await run_agent()  # <-- this is valid in Colab/Jupyter"
      ],
      "metadata": {
        "colab": {
          "base_uri": "https://localhost:8080/",
          "height": 392
        },
        "id": "tasNfRNjGZfP",
        "outputId": "cf072270-cc31-4ef0-acbb-ea80e1a77a41"
      },
      "execution_count": 14,
      "outputs": [
        {
          "output_type": "display_data",
          "data": {
            "text/plain": [
              "<IPython.core.display.HTML object>"
            ],
            "text/html": [
              "\n",
              "  <style>\n",
              "    pre {\n",
              "        white-space: pre-wrap;\n",
              "    }\n",
              "  </style>\n",
              "  "
            ]
          },
          "metadata": {}
        },
        {
          "output_type": "stream",
          "name": "stdout",
          "text": [
            "Consider twin primes \\((p, p+2)\\). We need to show that for \\(n = p+1\\), \\(n \\equiv 0 \\pmod{6}\\) unless \\(p = 3\\).\n",
            "\n",
            "### Proof:\n",
            "1. **Prime Properties:**\n",
            "   - A prime number \\(p\\) (except 2 and 3) must be in the form \\(6k \\pm 1\\) to avoid factors of 2 and 3.\n",
            "\n",
            "2. **Case Analysis:**\n",
            "   - **Case 1:** \\(p = 6k - 1\\)\n",
            "     - \\(p + 2 = 6k + 1\\) (also prime)\n",
            "     - \\(n = 6k\\) implies \\(n\\) is divisible by 6.\n",
            "\n",
            "   - **Case 2:** \\(p = 6k + 1\\)\n",
            "     - \\(p + 2 = 6k + 3\\)\n",
            "     - \\(p + 2\\) has 3 as a factor, hence cannot be prime.\n",
            "\n",
            "3. **Special Case:**\n",
            "   - The pair (3, 5) does not fit the pattern. Check \\(n = 4\\).\n",
            "   - \\(4 \\mod 6 = 4\\), not divisible.\n",
            "\n",
            "### Conclusion:\n",
            "All twin primes except (3, 5) = (p, p + 2) result in \\(n = p + 1\\) divisible by 6.\n"
          ]
        }
      ]
    },
    {
      "cell_type": "markdown",
      "source": [
        "QUESTIONS\n",
        "\n",
        "1. Run each one of the cells above (except the one to **encrypt** a new apikey - you need to run the one to decrypt). For each cell with a prompt you must slightly modify it - be creative.\n",
        "1. Save and upload your notebook."
      ],
      "metadata": {
        "id": "kHhsDTHngQwA"
      }
    }
  ]
}